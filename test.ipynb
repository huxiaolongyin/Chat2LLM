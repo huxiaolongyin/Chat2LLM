{
 "cells": [
  {
   "cell_type": "code",
   "execution_count": 6,
   "metadata": {},
   "outputs": [
    {
     "name": "stderr",
     "output_type": "stream",
     "text": [
      "USER_AGENT environment variable not set, consider setting it to identify your requests.\n",
      "c:\\Users\\Admin\\AppData\\Local\\Programs\\Python\\Python39\\lib\\site-packages\\sentence_transformers\\cross_encoder\\CrossEncoder.py:11: TqdmWarning: IProgress not found. Please update jupyter and ipywidgets. See https://ipywidgets.readthedocs.io/en/stable/user_install.html\n",
      "  from tqdm.autonotebook import tqdm, trange\n",
      "No sentence-transformers model found with name D:/code/BigModel/bert-base-chinese. Creating a new one with mean pooling.\n"
     ]
    },
    {
     "name": "stdout",
     "output_type": "stream",
     "text": [
      "[Document(metadata={'source': 'https://movie.douban.com/subject/1292052/', 'start_index': 1052}, page_content=\"一场谋杀案使银行家安迪（蒂姆•罗宾斯 Tim Robbins 饰）蒙冤入狱，谋杀妻子及其情人的指控将囚禁他终生。在肖申克监狱的首次现身就让监狱“大哥”瑞德（摩根•弗里曼 Morgan Freeman 饰）对他另眼相看。瑞德帮助他搞到一把石锤和一幅女明星海报，两人渐成患难 之交。很快，安迪在监狱里大显其才，担当监狱图书管理员，并利用自己的金融知识帮助监狱官避税，引起了典狱长的注意，被招致麾下帮助典狱长洗黑钱。偶然一次，他得知一名新入狱的小偷能够作证帮他洗脱谋杀罪。燃起一丝希望的安迪找到了典狱长，希望他能帮自己翻案。阴险伪善的狱长假装答应安迪，背后却派人杀死小偷，让他唯一能合法出狱的希望泯灭。沮丧的安迪并没有绝望，在一个电闪雷鸣的风雨夜，一场暗藏几十年的越狱计划让他自我救赎，重获自由！老朋友瑞德在他的鼓舞和帮助下，也勇敢地奔向自由。\\n                                    \\n                                \\u3000\\u3000本片获得1995年奥斯卡10项提名，以及金球奖、土星奖等多项提名。\\n                        \\n©豆瓣\\n\\n\\n\\n肖申克的救赎的演职员\\n              · · · · · ·\\n            \\n            (\\n                全部 43\\n            )\\n            \\n\\n\\n\\n\\n\\n\\n\\n\\n弗兰克·德拉邦特\\n导演\\n\\n\\n\\n\\n\\n\\n\\n\\n蒂姆·罗宾斯\\n饰 安迪·杜佛兰 Andy Dufresne\\n\\n\\n\\n\\n\\n\\n\\n\\n摩根·弗里曼\\n饰 艾利斯·波伊德·“瑞德”·瑞丁 Ellis Boyd 'Red' Redding\\n\\n\\n\\n\\n\\n\\n\\n\\n鲍勃·冈顿\\n饰 监狱长山姆·诺顿 Warden Norton\\n\\n\\n\\n\\n\\n\\n\\n\\n威廉姆·赛德勒\\n饰 海伍德 Heywood\\n\\n\\n\\n\\n\\n\\n\\n\\n克兰西·布朗\\n饰 上尉哈德利 Captain Hadley\\n\\n\\n\\n\\n\\n第67届奥斯卡金像奖\\n\\n最佳影片(提名)\\n妮基·马文\\n\\n\\n第52届金球奖\\n\\n电影类 剧情片最佳男主角(提名)\\n摩根·弗里曼\\n\\n\\n第19届日本电影学院奖\\n\\n最佳外语片\")]\n"
     ]
    }
   ],
   "source": [
    "from chat2llm.embedding.bert import BertEmbedding \n",
    "db = BertEmbedding().load_vectorstore()\n",
    "print(db.similarity_search(\"剧情简介\", k=1))"
   ]
  },
  {
   "cell_type": "code",
   "execution_count": 15,
   "metadata": {},
   "outputs": [
    {
     "name": "stderr",
     "output_type": "stream",
     "text": [
      "No sentence-transformers model found with name D:/code/BigModel/bert-base-chinese. Creating a new one with mean pooling.\n"
     ]
    }
   ],
   "source": [
    "from langchain_community.embeddings import HuggingFaceBgeEmbeddings\n",
    "from langchain_chroma import Chroma\n",
    "\n",
    "model_name = \"D:/code/BigModel/bert-base-chinese\"\n",
    "device = \"cpu\"\n",
    "model_kwargs = {\"device\": 'cpu'}\n",
    "encode_kwargs = {\"normalize_embeddings\": True}\n",
    "hf = HuggingFaceBgeEmbeddings(\n",
    "    model_name=model_name,\n",
    "    model_kwargs=model_kwargs,\n",
    "    encode_kwargs=encode_kwargs,\n",
    ")\n",
    "db = Chroma(embedding_function=hf, persist_directory=\"chat2llm/vectorstore\")"
   ]
  },
  {
   "cell_type": "code",
   "execution_count": 3,
   "metadata": {},
   "outputs": [
    {
     "data": {
      "text/plain": [
       "pathlib.WindowsPath"
      ]
     },
     "execution_count": 3,
     "metadata": {},
     "output_type": "execute_result"
    }
   ],
   "source": [
    "import platform\n",
    "if platform.system() == \"Windows\":\n",
    "    import pathlib\n",
    "    pathlib.PosixPath = pathlib.WindowsPath\n",
    "pathlib.WindowsPath"
   ]
  },
  {
   "cell_type": "code",
   "execution_count": 21,
   "metadata": {},
   "outputs": [
    {
     "name": "stderr",
     "output_type": "stream",
     "text": [
      "Number of requested results 4 is greater than number of elements in index 3, updating n_results = 3\n"
     ]
    },
    {
     "data": {
      "text/plain": [
       "Document(metadata={'source': 'https://movie.douban.com/subject/1292052/', 'start_index': 1052}, page_content=\"一场谋杀案使银行家安迪（蒂姆•罗宾斯 Tim Robbins 饰）蒙冤入狱，谋杀妻子及其情人的指控将囚禁他终生。在肖申克监狱的首次现身就让监狱“大哥”瑞德（摩根•弗里曼 Morgan Freeman 饰）对他另眼相看。瑞德帮助他搞到一把石锤和一幅女明星海报，两人渐成患难 之交。很快，安迪在监狱里大显其才，担当监狱图书管理员，并利用自己的金融知识帮助监狱官避税，引起了典狱长的注意，被招致麾下帮助典狱长洗黑钱。偶然一次，他得知一名新入狱的小偷能够作证帮他洗脱谋杀罪。燃起一丝希望的安迪找到了典狱长，希望他能帮自己翻案。阴险伪善的狱长假装答应安迪，背后却派人杀死小偷，让他唯一能合法出狱的希望泯灭。沮丧的安迪并没有绝望，在一个电闪雷鸣的风雨夜，一场暗藏几十年的越狱计划让他自我救赎，重获自由！老朋友瑞德在他的鼓舞和帮助下，也勇敢地奔向自由。\\n                                    \\n                                \\u3000\\u3000本片获得1995年奥斯卡10项提名，以及金球奖、土星奖等多项提名。\\n                        \\n©豆瓣\\n\\n\\n\\n肖申克的救赎的演职员\\n              · · · · · ·\\n            \\n            (\\n                全部 43\\n            )\\n            \\n\\n\\n\\n\\n\\n\\n\\n\\n弗兰克·德拉邦特\\n导演\\n\\n\\n\\n\\n\\n\\n\\n\\n蒂姆·罗宾斯\\n饰 安迪·杜佛兰 Andy Dufresne\\n\\n\\n\\n\\n\\n\\n\\n\\n摩根·弗里曼\\n饰 艾利斯·波伊德·“瑞德”·瑞丁 Ellis Boyd 'Red' Redding\\n\\n\\n\\n\\n\\n\\n\\n\\n鲍勃·冈顿\\n饰 监狱长山姆·诺顿 Warden Norton\\n\\n\\n\\n\\n\\n\\n\\n\\n威廉姆·赛德勒\\n饰 海伍德 Heywood\\n\\n\\n\\n\\n\\n\\n\\n\\n克兰西·布朗\\n饰 上尉哈德利 Captain Hadley\\n\\n\\n\\n\\n\\n第67届奥斯卡金像奖\\n\\n最佳影片(提名)\\n妮基·马文\\n\\n\\n第52届金球奖\\n\\n电影类 剧情片最佳男主角(提名)\\n摩根·弗里曼\\n\\n\\n第19届日本电影学院奖\\n\\n最佳外语片\")"
      ]
     },
     "execution_count": 21,
     "metadata": {},
     "output_type": "execute_result"
    }
   ],
   "source": [
    "db.similarity_search('第67届奥斯卡金像奖')[0]"
   ]
  }
 ],
 "metadata": {
  "kernelspec": {
   "display_name": "Python 3",
   "language": "python",
   "name": "python3"
  },
  "language_info": {
   "codemirror_mode": {
    "name": "ipython",
    "version": 3
   },
   "file_extension": ".py",
   "mimetype": "text/x-python",
   "name": "python",
   "nbconvert_exporter": "python",
   "pygments_lexer": "ipython3",
   "version": "3.9.11"
  }
 },
 "nbformat": 4,
 "nbformat_minor": 2
}
