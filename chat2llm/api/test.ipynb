{
 "cells": [
  {
   "cell_type": "markdown",
   "metadata": {},
   "source": [
    "# 文本分类测试"
   ]
  },
  {
   "cell_type": "code",
   "execution_count": 5,
   "metadata": {},
   "outputs": [
    {
     "name": "stderr",
     "output_type": "stream",
     "text": [
      "c:\\Users\\Admin\\AppData\\Local\\Programs\\Python\\Python39\\lib\\site-packages\\sklearn\\base.py:376: InconsistentVersionWarning: Trying to unpickle estimator LabelEncoder from version 1.3.2 when using version 1.5.0. This might lead to breaking code or invalid results. Use at your own risk. For more info please refer to:\n",
      "https://scikit-learn.org/stable/model_persistence.html#security-maintainability-limitations\n",
      "  warnings.warn(\n"
     ]
    },
    {
     "data": {
      "text/plain": [
       "['属性']"
      ]
     },
     "execution_count": 5,
     "metadata": {},
     "output_type": "execute_result"
    }
   ],
   "source": [
    "from textcls import TextCls\n",
    "TextCls.htw_text_cls('福州的介绍')"
   ]
  },
  {
   "cell_type": "markdown",
   "metadata": {},
   "source": [
    "# 文本生成测试"
   ]
  },
  {
   "cell_type": "code",
   "execution_count": 3,
   "metadata": {},
   "outputs": [
    {
     "name": "stdout",
     "output_type": "stream",
     "text": [
      "🌟 福州是一座历史悠久的城市，位于中国东南沿海，享誉“天下第一圳”、“閩江之都”。\n",
      "\n",
      "💪 这里有许多古老建筑和历史遗迹，如福州府城、鼓楼、钱塘桥等，让我们回溯到中国历史和文化的过去。\n",
      "\n",
      "🌈同时， 福州也是一个现代化的城市，有很多现代化设施和基础设施，如新阳湖、高铁站、机场等，支持着当地的人口生活和经济发展。\n",
      "\n",
      "💖 到底，这座城市是一个非常有吸引力的旅游目的地，拥有多样性的人口、高文化程度，是福建省的政治、经济和文化中心。"
     ]
    }
   ],
   "source": [
    "from generate import Generate\n",
    "\n",
    "for chunk in Generate.taskai('福州的介绍'):\n",
    "    print(chunk, end='', flush=True)"
   ]
  },
  {
   "cell_type": "code",
   "execution_count": 1,
   "metadata": {},
   "outputs": [
    {
     "name": "stderr",
     "output_type": "stream",
     "text": [
      "\n",
      "KeyboardInterrupt\n",
      "\n"
     ]
    }
   ],
   "source": [
    "import requests\n",
    "from requests.exceptions import ChunkedEncodingError\n",
    "\n",
    "url = \"http://127.0.0.1:8000/generate\"\n",
    "params = {\"question\": \"福州的介绍\"}\n",
    "\n",
    "response = requests.post(url, params=params, stream=True)\n",
    "if response.status_code == 200:\n",
    "\n",
    "    # 用于存储未完成的UTF-8字节序列\n",
    "    buffer = b\"\"\n",
    "\n",
    "    # 迭代接收数据块\n",
    "    for chunk in response.iter_content(chunk_size=1):\n",
    "        if chunk:\n",
    "            buffer += chunk\n",
    "            try:\n",
    "                # 尝试解码缓冲区中的数据\n",
    "                text = buffer.decode(\"utf-8\")\n",
    "                print(text, end=\"\", flush=True)  # 立即打印解码的文本\n",
    "                buffer = b\"\"  # 清空缓冲区\n",
    "            except UnicodeDecodeError:\n",
    "                # 如果解码失败，继续累积字节直到形成完整的UTF-8序列\n",
    "                pass\n",
    "\n",
    "else:\n",
    "    print(f\"请求失败，状态码：{response.status_code}\")"
   ]
  },
  {
   "cell_type": "markdown",
   "metadata": {},
   "source": [
    "# 语音转文字测试"
   ]
  },
  {
   "cell_type": "code",
   "execution_count": null,
   "metadata": {},
   "outputs": [],
   "source": []
  },
  {
   "cell_type": "markdown",
   "metadata": {},
   "source": [
    "# 文字转语音测试"
   ]
  },
  {
   "cell_type": "code",
   "execution_count": 14,
   "metadata": {},
   "outputs": [
    {
     "name": "stdout",
     "output_type": "stream",
     "text": [
      "时长: 1.368 秒\n",
      "声道数: 1\n",
      "采样宽度: 2 bytes\n",
      "采样率: 24000 Hz\n"
     ]
    }
   ],
   "source": [
    "from pydub import AudioSegment\n",
    "\n",
    "# 加载MP3文件\n",
    "audio = AudioSegment.from_mp3(\"D:/code/Chat2LLM/test.mp3\")\n",
    "\n",
    "# 获取音频信息\n",
    "duration_in_milliseconds = len(audio)\n",
    "duration_in_seconds = duration_in_milliseconds / 1000\n",
    "channels = audio.channels\n",
    "sample_width = audio.sample_width\n",
    "frame_rate = audio.frame_rate\n",
    "\n",
    "print(f\"时长: {duration_in_seconds} 秒\")\n",
    "print(f\"声道数: {channels}\")\n",
    "print(f\"采样宽度: {sample_width} bytes\")\n",
    "print(f\"采样率: {frame_rate} Hz\")\n",
    "\n",
    "# 获取原始音频数据\n",
    "raw_data = audio.raw_data"
   ]
  },
  {
   "cell_type": "code",
   "execution_count": 7,
   "metadata": {},
   "outputs": [
    {
     "ename": "ImportError",
     "evalue": "cannot import name 'Text2Speech' from 'text2speech' (d:\\code\\Chat2LLM\\chat2llm\\api\\text2speech.py)",
     "output_type": "error",
     "traceback": [
      "\u001b[1;31m---------------------------------------------------------------------------\u001b[0m",
      "\u001b[1;31mImportError\u001b[0m                               Traceback (most recent call last)",
      "Cell \u001b[1;32mIn[7], line 2\u001b[0m\n\u001b[0;32m      1\u001b[0m \u001b[38;5;28;01mimport\u001b[39;00m \u001b[38;5;21;01masyncio\u001b[39;00m\n\u001b[1;32m----> 2\u001b[0m \u001b[38;5;28;01mfrom\u001b[39;00m \u001b[38;5;21;01mtext2speech\u001b[39;00m \u001b[38;5;28;01mimport\u001b[39;00m Text2Speech\n\u001b[0;32m      4\u001b[0m asyncio\u001b[38;5;241m.\u001b[39mrun(Text2Speech\u001b[38;5;241m.\u001b[39mtts_stream(\u001b[38;5;124m'\u001b[39m\u001b[38;5;124m你好\u001b[39m\u001b[38;5;124m'\u001b[39m))\n",
      "\u001b[1;31mImportError\u001b[0m: cannot import name 'Text2Speech' from 'text2speech' (d:\\code\\Chat2LLM\\chat2llm\\api\\text2speech.py)"
     ]
    }
   ],
   "source": [
    "import asyncio\n",
    "from text2speech import TTS\n",
    "\n",
    "asyncio.run(TTS.tts_stream('你好'))"
   ]
  },
  {
   "cell_type": "code",
   "execution_count": 6,
   "metadata": {},
   "outputs": [
    {
     "data": {
      "text/plain": [
       "'16b7a244913d447aaf767c664eeaeabc'"
      ]
     },
     "execution_count": 6,
     "metadata": {},
     "output_type": "execute_result"
    }
   ],
   "source": [
    "import uuid\n",
    "\n",
    "\n",
    "str(uuid.uuid4()).replace(\"-\", \"\")"
   ]
  },
  {
   "cell_type": "code",
   "execution_count": 11,
   "metadata": {},
   "outputs": [
    {
     "ename": "RuntimeError",
     "evalue": "asyncio.run() cannot be called from a running event loop",
     "output_type": "error",
     "traceback": [
      "\u001b[1;31m---------------------------------------------------------------------------\u001b[0m",
      "\u001b[1;31mRuntimeError\u001b[0m                              Traceback (most recent call last)",
      "Cell \u001b[1;32mIn[11], line 22\u001b[0m\n\u001b[0;32m     18\u001b[0m                 \u001b[38;5;28mprint\u001b[39m(\u001b[38;5;124mf\u001b[39m\u001b[38;5;124m\"\u001b[39m\u001b[38;5;124mWordBoundary: \u001b[39m\u001b[38;5;132;01m{\u001b[39;00mchunk\u001b[38;5;132;01m}\u001b[39;00m\u001b[38;5;124m\"\u001b[39m)\n\u001b[0;32m     21\u001b[0m \u001b[38;5;28;01mif\u001b[39;00m \u001b[38;5;18m__name__\u001b[39m \u001b[38;5;241m==\u001b[39m \u001b[38;5;124m\"\u001b[39m\u001b[38;5;124m__main__\u001b[39m\u001b[38;5;124m\"\u001b[39m:\n\u001b[1;32m---> 22\u001b[0m     \u001b[43masyncio\u001b[49m\u001b[38;5;241;43m.\u001b[39;49m\u001b[43mrun\u001b[49m\u001b[43m(\u001b[49m\u001b[43mamain\u001b[49m\u001b[43m(\u001b[49m\u001b[43m)\u001b[49m\u001b[43m)\u001b[49m\n",
      "File \u001b[1;32mc:\\Users\\Admin\\AppData\\Local\\Programs\\Python\\Python39\\lib\\asyncio\\runners.py:33\u001b[0m, in \u001b[0;36mrun\u001b[1;34m(main, debug)\u001b[0m\n\u001b[0;32m      9\u001b[0m \u001b[38;5;250m\u001b[39m\u001b[38;5;124;03m\"\"\"Execute the coroutine and return the result.\u001b[39;00m\n\u001b[0;32m     10\u001b[0m \n\u001b[0;32m     11\u001b[0m \u001b[38;5;124;03mThis function runs the passed coroutine, taking care of\u001b[39;00m\n\u001b[1;32m   (...)\u001b[0m\n\u001b[0;32m     30\u001b[0m \u001b[38;5;124;03m    asyncio.run(main())\u001b[39;00m\n\u001b[0;32m     31\u001b[0m \u001b[38;5;124;03m\"\"\"\u001b[39;00m\n\u001b[0;32m     32\u001b[0m \u001b[38;5;28;01mif\u001b[39;00m events\u001b[38;5;241m.\u001b[39m_get_running_loop() \u001b[38;5;129;01mis\u001b[39;00m \u001b[38;5;129;01mnot\u001b[39;00m \u001b[38;5;28;01mNone\u001b[39;00m:\n\u001b[1;32m---> 33\u001b[0m     \u001b[38;5;28;01mraise\u001b[39;00m \u001b[38;5;167;01mRuntimeError\u001b[39;00m(\n\u001b[0;32m     34\u001b[0m         \u001b[38;5;124m\"\u001b[39m\u001b[38;5;124masyncio.run() cannot be called from a running event loop\u001b[39m\u001b[38;5;124m\"\u001b[39m)\n\u001b[0;32m     36\u001b[0m \u001b[38;5;28;01mif\u001b[39;00m \u001b[38;5;129;01mnot\u001b[39;00m coroutines\u001b[38;5;241m.\u001b[39miscoroutine(main):\n\u001b[0;32m     37\u001b[0m     \u001b[38;5;28;01mraise\u001b[39;00m \u001b[38;5;167;01mValueError\u001b[39;00m(\u001b[38;5;124m\"\u001b[39m\u001b[38;5;124ma coroutine was expected, got \u001b[39m\u001b[38;5;132;01m{!r}\u001b[39;00m\u001b[38;5;124m\"\u001b[39m\u001b[38;5;241m.\u001b[39mformat(main))\n",
      "\u001b[1;31mRuntimeError\u001b[0m: asyncio.run() cannot be called from a running event loop"
     ]
    }
   ],
   "source": [
    "import asyncio\n",
    "\n",
    "import edge_tts\n",
    "\n",
    "TEXT = \"在线音频常用的在线传输方式之一是通过HTTP流。有多种流方法属于HTTP流方法的分支，包括服务器推送，这在历史上一直用于在浏览器中不断的刷新网络摄像头图像进行显示；以及一系列由Apple、Adobe和Microsoft等公司提出的新方法，用于他们各自的媒体播放应用程序。...\"\n",
    "VOICE = \"zh-CN-YunxiaNeural\" \n",
    "OUTPUT_FILE = \"test.wav\"\n",
    "\n",
    "\n",
    "async def amain() -> None:\n",
    "    \"\"\"Main function\"\"\"\n",
    "    communicate = edge_tts.Communicate(TEXT, VOICE)\n",
    "    with open(OUTPUT_FILE, \"wb\") as file:\n",
    "        async for chunk in communicate.stream():\n",
    "            if chunk[\"type\"] == \"audio\":\n",
    "                file.write(chunk[\"data\"])\n",
    "            elif chunk[\"type\"] == \"WordBoundary\":\n",
    "                print(f\"WordBoundary: {chunk}\")\n",
    "\n",
    "\n",
    "if __name__ == \"__main__\":\n",
    "    asyncio.run(amain())"
   ]
  }
 ],
 "metadata": {
  "kernelspec": {
   "display_name": "Python 3",
   "language": "python",
   "name": "python3"
  },
  "language_info": {
   "codemirror_mode": {
    "name": "ipython",
    "version": 3
   },
   "file_extension": ".py",
   "mimetype": "text/x-python",
   "name": "python",
   "nbconvert_exporter": "python",
   "pygments_lexer": "ipython3",
   "version": "3.9.11"
  }
 },
 "nbformat": 4,
 "nbformat_minor": 2
}
